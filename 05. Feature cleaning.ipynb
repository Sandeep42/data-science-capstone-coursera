{
 "cells": [
  {
   "cell_type": "code",
   "execution_count": 1,
   "metadata": {
    "collapsed": false
   },
   "outputs": [
    {
     "name": "stdout",
     "output_type": "stream",
     "text": [
      "Populating the interactive namespace from numpy and matplotlib\n"
     ]
    }
   ],
   "source": [
    "import numpy as np\n",
    "import sklearn\n",
    "import matplotlib.pyplot as plt\n",
    "%pylab inline\n",
    "pylab.rcParams['figure.figsize'] = (20, 10)\n",
    "plt.style.use('fivethirtyeight')\n",
    "import pandas as pd\n",
    "import re"
   ]
  },
  {
   "cell_type": "markdown",
   "metadata": {},
   "source": [
    "We have aggregated the results in the last part, let us just read them."
   ]
  },
  {
   "cell_type": "code",
   "execution_count": 2,
   "metadata": {
    "collapsed": true
   },
   "outputs": [],
   "source": [
    "o = pd.read_csv('onegrams_aggregated.csv')\n",
    "b = pd.read_csv('bigrams_aggregated.csv')\n",
    "t = pd.read_csv('trigrams_aggregated.csv')\n",
    "f = pd.read_csv('fourgrams_aggregated.csv')"
   ]
  },
  {
   "cell_type": "markdown",
   "metadata": {},
   "source": [
    "Do we have any bad words, eh?"
   ]
  },
  {
   "cell_type": "code",
   "execution_count": 4,
   "metadata": {
    "collapsed": false
   },
   "outputs": [
    {
     "data": {
      "text/plain": [
       "37"
      ]
     },
     "execution_count": 4,
     "metadata": {},
     "output_type": "execute_result"
    }
   ],
   "source": [
    "sum(f.term.str.contains('ass'))"
   ]
  },
  {
   "cell_type": "markdown",
   "metadata": {},
   "source": [
    "We do have lots of them, let's clean them.\n",
    "\n",
    "Offensive word list source : http://stackoverflow.com/a/17706025"
   ]
  },
  {
   "cell_type": "code",
   "execution_count": 13,
   "metadata": {
    "collapsed": true
   },
   "outputs": [],
   "source": [
    "arrBad = [\n",
    "'2g1c',\n",
    "'2 girls 1 cup',\n",
    "'acrotomophilia',\n",
    "'anal',\n",
    "'anilingus',\n",
    "'anus',\n",
    "'arsehole',\n",
    "'ass',\n",
    "'asshole',\n",
    "'assmunch',\n",
    "'auto erotic',\n",
    "'autoerotic',\n",
    "'babeland',\n",
    "'baby batter',\n",
    "'ball gag',\n",
    "'ball gravy',\n",
    "'ball kicking',\n",
    "'ball licking',\n",
    "'ball sack',\n",
    "'ball sucking',\n",
    "'bangbros',\n",
    "'bareback',\n",
    "'barely legal',\n",
    "'barenaked',\n",
    "'bastardo',\n",
    "'bastinado',\n",
    "'bbw',\n",
    "'bdsm',\n",
    "'beaver cleaver',\n",
    "'beaver lips',\n",
    "'bestiality',\n",
    "'bi curious',\n",
    "'big black',\n",
    "'big breasts',\n",
    "'big knockers',\n",
    "'big tits',\n",
    "'bimbos',\n",
    "'birdlock',\n",
    "'bitch',\n",
    "'black cock',\n",
    "'blonde action',\n",
    "'blonde on blonde action',\n",
    "'blow j',\n",
    "'blow your l',\n",
    "'blue waffle',\n",
    "'blumpkin',\n",
    "'bollocks',\n",
    "'bondage',\n",
    "'boner',\n",
    "'boob',\n",
    "'boobs',\n",
    "'booty call',\n",
    "'brown showers',\n",
    "'brunette action',\n",
    "'bukkake',\n",
    "'bulldyke',\n",
    "'bullet vibe',\n",
    "'bung hole',\n",
    "'bunghole',\n",
    "'busty',\n",
    "'butt',\n",
    "'buttcheeks',\n",
    "'butthole',\n",
    "'camel toe',\n",
    "'camgirl',\n",
    "'camslut',\n",
    "'camwhore',\n",
    "'carpet muncher',\n",
    "'carpetmuncher',\n",
    "'chocolate rosebuds',\n",
    "'circlejerk',\n",
    "'cleveland steamer',\n",
    "'clit',\n",
    "'clitoris',\n",
    "'clover clamps',\n",
    "'clusterfuck',\n",
    "'cock',\n",
    "'cocks',\n",
    "'coprolagnia',\n",
    "'coprophilia',\n",
    "'cornhole',\n",
    "'cum',\n",
    "'cumming',\n",
    "'cunnilingus',\n",
    "'cunt',\n",
    "'darkie',\n",
    "'date rape',\n",
    "'daterape',\n",
    "'deep throat',\n",
    "'deepthroat',\n",
    "'dick',\n",
    "'dildo',\n",
    "'dirty pillows',\n",
    "'dirty sanchez',\n",
    "'dog style',\n",
    "'doggie style',\n",
    "'doggiestyle',\n",
    "'doggy style',\n",
    "'doggystyle',\n",
    "'dolcett',\n",
    "'domination',\n",
    "'dominatrix',\n",
    "'dommes',\n",
    "'donkey punch',\n",
    "'double dong',\n",
    "'double penetration',\n",
    "'dp action',\n",
    "'eat my ass',\n",
    "'ecchi',\n",
    "'ejaculation',\n",
    "'erotic',\n",
    "'erotism',\n",
    "'escort',\n",
    "'ethical slut',\n",
    "'eunuch',\n",
    "'faggot',\n",
    "'fecal',\n",
    "'felch',\n",
    "'fellatio',\n",
    "'feltch',\n",
    "'female squirting',\n",
    "'femdom',\n",
    "'figging',\n",
    "'fingering',\n",
    "'fisting',\n",
    "'foot fetish',\n",
    "'footjob',\n",
    "'frotting',\n",
    "'fuck',\n",
    "'fucking',\n",
    "'fuck buttons',\n",
    "'fudge packer',\n",
    "'fudgepacker',\n",
    "'futanari',\n",
    "'g-spot',\n",
    "'gang bang',\n",
    "'gay sex',\n",
    "'genitals',\n",
    "'giant cock',\n",
    "'girl on',\n",
    "'girl on top',\n",
    "'girls gone wild',\n",
    "'goatcx',\n",
    "'goatse',\n",
    "'gokkun',\n",
    "'golden shower',\n",
    "'goo girl',\n",
    "'goodpoop',\n",
    "'goregasm',\n",
    "'grope',\n",
    "'group sex',\n",
    "'guro',\n",
    "'hand job',\n",
    "'handjob',\n",
    "'hard core',\n",
    "'hardcore',\n",
    "'hentai',\n",
    "'homoerotic',\n",
    "'honkey',\n",
    "'hooker',\n",
    "'hot chick',\n",
    "'how to kill',\n",
    "'how to murder',\n",
    "'huge fat',\n",
    "'humping',\n",
    "'incest',\n",
    "'intercourse',\n",
    "'jack off',\n",
    "'jail bait',\n",
    "'jailbait',\n",
    "'jerk off',\n",
    "'jigaboo',\n",
    "'jiggaboo',\n",
    "'jiggerboo',\n",
    "'jizz',\n",
    "'juggs',\n",
    "'kike',\n",
    "'kinbaku',\n",
    "'kinkster',\n",
    "'kinky',\n",
    "'knobbing',\n",
    "'leather restraint',\n",
    "'leather straight jacket',\n",
    "'lemon party',\n",
    "'lolita',\n",
    "'lovemaking',\n",
    "'make me come',\n",
    "'male squirting',\n",
    "'masturbate',\n",
    "'menage a trois',\n",
    "'milf',\n",
    "'missionary position',\n",
    "'motherfucker',\n",
    "'mound of venus',\n",
    "'mr hands',\n",
    "'muff diver',\n",
    "'muffdiving',\n",
    "'nambla',\n",
    "'nawashi',\n",
    "'negro',\n",
    "'neonazi',\n",
    "'nig nog',\n",
    "'nigga',\n",
    "'nigger',\n",
    "'nimphomania',\n",
    "'nipple',\n",
    "'nipples',\n",
    "'nsfw images',\n",
    "'nude',\n",
    "'nudity',\n",
    "'nympho',\n",
    "'nymphomania',\n",
    "'octopussy',\n",
    "'omorashi',\n",
    "'one cup two girls',\n",
    "'one guy one jar',\n",
    "'orgasm',\n",
    "'orgy',\n",
    "'paedophile',\n",
    "'panties',\n",
    "'panty',\n",
    "'pedobear',\n",
    "'pedophile',\n",
    "'pegging',\n",
    "'penis',\n",
    "'phone sex',\n",
    "'piece of shit',\n",
    "'piss pig',\n",
    "'pissing',\n",
    "'pisspig',\n",
    "'playboy',\n",
    "'pleasure chest',\n",
    "'pole smoker',\n",
    "'ponyplay',\n",
    "'poof',\n",
    "'poop chute',\n",
    "'poopchute',\n",
    "'porn',\n",
    "'porno',\n",
    "'pornography',\n",
    "'prince albert piercing',\n",
    "'pthc',\n",
    "'pubes',\n",
    "'pussy',\n",
    "'queaf',\n",
    "'raghead',\n",
    "'raging boner',\n",
    "'rape',\n",
    "'raping',\n",
    "'rapist',\n",
    "'rectum',\n",
    "'reverse cowgirl',\n",
    "'rimjob',\n",
    "'rimming',\n",
    "'rosy palm',\n",
    "'rosy palm and her 5 sisters',\n",
    "'rusty trombone',\n",
    "'s&m',\n",
    "'sadism',\n",
    "'scat',\n",
    "'schlong',\n",
    "'scissoring',\n",
    "'semen',\n",
    "'sex',\n",
    "'sexo',\n",
    "'sexy',\n",
    "'shaved beaver',\n",
    "'shaved pussy',\n",
    "'shemale',\n",
    "'shibari',\n",
    "'shit',\n",
    "'shota',\n",
    "'shrimping',\n",
    "'slanteye',\n",
    "'slut',\n",
    "'smut',\n",
    "'snatch',\n",
    "'snowballing',\n",
    "'sodomize',\n",
    "'sodomy',\n",
    "'spic',\n",
    "'spooge',\n",
    "'spread legs',\n",
    "'strap on',\n",
    "'strapon',\n",
    "'strappado',\n",
    "'strip club',\n",
    "'style doggy',\n",
    "'suck',\n",
    "'sucks',\n",
    "'suicide girls',\n",
    "'sultry women',\n",
    "'swastika',\n",
    "'swinger',\n",
    "'tainted love',\n",
    "'taste my',\n",
    "'tea bagging',\n",
    "'threesome',\n",
    "'throating',\n",
    "'tied up',\n",
    "'tight white',\n",
    "'tit',\n",
    "'tits',\n",
    "'titties',\n",
    "'titty',\n",
    "'tongue in a',\n",
    "'topless',\n",
    "'tosser',\n",
    "'towelhead',\n",
    "'tranny',\n",
    "'tribadism',\n",
    "'tub girl',\n",
    "'tubgirl',\n",
    "'tushy',\n",
    "'twat',\n",
    "'twink',\n",
    "'twinkie',\n",
    "'two girls one cup',\n",
    "'undressing',\n",
    "'upskirt',\n",
    "'urethra play',\n",
    "'urophilia',\n",
    "'vagina',\n",
    "'venus mound',\n",
    "'vibrator',\n",
    "'violet blue',\n",
    "'violet wand',\n",
    "'vorarephilia',\n",
    "'voyeur',\n",
    "'vulva',\n",
    "'wank',\n",
    "'wet dream',\n",
    "'wetback',\n",
    "'white power',\n",
    "'women rapping',\n",
    "'wrapping men',\n",
    "'wrinkled starfish',\n",
    "'xx',\n",
    "'xxx'\n",
    "'yaoi',\n",
    "'yellow showers',\n",
    "'yiffy',\n",
    "'zoophilia']"
   ]
  },
  {
   "cell_type": "code",
   "execution_count": 15,
   "metadata": {
    "collapsed": true
   },
   "outputs": [],
   "source": [
    "pattern = '|'.join(arrBad)"
   ]
  },
  {
   "cell_type": "code",
   "execution_count": 18,
   "metadata": {
    "collapsed": false
   },
   "outputs": [
    {
     "data": {
      "text/plain": [
       "'2g1c|2 girls 1 '"
      ]
     },
     "execution_count": 18,
     "metadata": {},
     "output_type": "execute_result"
    }
   ],
   "source": [
    "pattern[0:15]"
   ]
  },
  {
   "cell_type": "markdown",
   "metadata": {},
   "source": [
    "We will check if we have any of these in our ngram models."
   ]
  },
  {
   "cell_type": "code",
   "execution_count": 21,
   "metadata": {
    "collapsed": false
   },
   "outputs": [
    {
     "data": {
      "text/plain": [
       "74"
      ]
     },
     "execution_count": 21,
     "metadata": {},
     "output_type": "execute_result"
    }
   ],
   "source": [
    "sum(f.term.str.contains(pattern))"
   ]
  },
  {
   "cell_type": "code",
   "execution_count": 22,
   "metadata": {
    "collapsed": false
   },
   "outputs": [
    {
     "data": {
      "text/plain": [
       "106"
      ]
     },
     "execution_count": 22,
     "metadata": {},
     "output_type": "execute_result"
    }
   ],
   "source": [
    "sum(o.term.str.contains(pattern))"
   ]
  },
  {
   "cell_type": "code",
   "execution_count": 23,
   "metadata": {
    "collapsed": false
   },
   "outputs": [
    {
     "data": {
      "text/plain": [
       "48"
      ]
     },
     "execution_count": 23,
     "metadata": {},
     "output_type": "execute_result"
    }
   ],
   "source": [
    "sum(b.term.str.contains(pattern))"
   ]
  },
  {
   "cell_type": "code",
   "execution_count": 24,
   "metadata": {
    "collapsed": false
   },
   "outputs": [
    {
     "data": {
      "text/plain": [
       "41"
      ]
     },
     "execution_count": 24,
     "metadata": {},
     "output_type": "execute_result"
    }
   ],
   "source": [
    "sum(t.term.str.contains(pattern))"
   ]
  },
  {
   "cell_type": "markdown",
   "metadata": {},
   "source": [
    "We have lots of them in our ngram model. We will have remove those items."
   ]
  },
  {
   "cell_type": "code",
   "execution_count": 25,
   "metadata": {
    "collapsed": true
   },
   "outputs": [],
   "source": [
    "o = o[o.term.str.contains(pattern) == False]"
   ]
  },
  {
   "cell_type": "markdown",
   "metadata": {},
   "source": [
    "Let's check if it actually removed those items."
   ]
  },
  {
   "cell_type": "code",
   "execution_count": 26,
   "metadata": {
    "collapsed": false
   },
   "outputs": [
    {
     "data": {
      "text/plain": [
       "0"
      ]
     },
     "execution_count": 26,
     "metadata": {},
     "output_type": "execute_result"
    }
   ],
   "source": [
    "sum(o.term.str.contains(pattern))"
   ]
  },
  {
   "cell_type": "code",
   "execution_count": 27,
   "metadata": {
    "collapsed": true
   },
   "outputs": [],
   "source": [
    "b = b[b.term.str.contains(pattern) == False]"
   ]
  },
  {
   "cell_type": "code",
   "execution_count": 28,
   "metadata": {
    "collapsed": true
   },
   "outputs": [],
   "source": [
    "t = t[t.term.str.contains(pattern) == False]"
   ]
  },
  {
   "cell_type": "code",
   "execution_count": 29,
   "metadata": {
    "collapsed": true
   },
   "outputs": [],
   "source": [
    "f = f[f.term.str.contains(pattern) == False]"
   ]
  },
  {
   "cell_type": "code",
   "execution_count": 34,
   "metadata": {
    "collapsed": true
   },
   "outputs": [],
   "source": [
    "o = o[o.term.str.contains(pattern) == False]"
   ]
  },
  {
   "cell_type": "code",
   "execution_count": 35,
   "metadata": {
    "collapsed": true
   },
   "outputs": [],
   "source": [
    "o.to_csv('onegrams_cleaned.csv')\n",
    "b.to_csv('bigrams_cleaned.csv')\n",
    "t.to_csv('trigrams_cleaned.csv')\n",
    "f.to_csv('fourgrams_cleaned.csv')"
   ]
  }
 ],
 "metadata": {
  "kernelspec": {
   "display_name": "Python 2",
   "language": "python",
   "name": "python2"
  },
  "language_info": {
   "codemirror_mode": {
    "name": "ipython",
    "version": 2
   },
   "file_extension": ".py",
   "mimetype": "text/x-python",
   "name": "python",
   "nbconvert_exporter": "python",
   "pygments_lexer": "ipython2",
   "version": "2.7.11"
  }
 },
 "nbformat": 4,
 "nbformat_minor": 0
}
