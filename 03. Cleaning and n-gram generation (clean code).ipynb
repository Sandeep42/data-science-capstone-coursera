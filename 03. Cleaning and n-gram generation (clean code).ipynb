{
 "cells": [
  {
   "cell_type": "code",
   "execution_count": 1,
   "metadata": {
    "collapsed": false
   },
   "outputs": [
    {
     "name": "stdout",
     "output_type": "stream",
     "text": [
      "Populating the interactive namespace from numpy and matplotlib\n"
     ]
    }
   ],
   "source": [
    "import numpy as np\n",
    "import sklearn\n",
    "import matplotlib.pyplot as plt\n",
    "%pylab inline\n",
    "pylab.rcParams['figure.figsize'] = (20, 10)\n",
    "plt.style.use('fivethirtyeight')\n",
    "import pandas as pd\n",
    "from sklearn.feature_extraction.text import CountVectorizer\n",
    "import re"
   ]
  },
  {
   "cell_type": "code",
   "execution_count": 2,
   "metadata": {
    "collapsed": true
   },
   "outputs": [],
   "source": [
    "# generates most frequently used n-grams in the string, it even sorts them!\n",
    "def ngram_freq_generator(string,n,features_no):\n",
    "    cv = CountVectorizer(ngram_range=(n,n),max_features=features_no)\n",
    "    s = cv.fit_transform(string)\n",
    "    X = s.todense()\n",
    "    features = cv.get_feature_names()\n",
    "    counts = np.asarray(X.sum(axis=0)).ravel().tolist()\n",
    "    grams_df = pd.DataFrame({'term': features, 'occurrences': np.asarray(counts)})\n",
    "    grams_df = grams_df.sort_values('occurrences',ascending=False)\n",
    "    return grams_df"
   ]
  },
  {
   "cell_type": "code",
   "execution_count": 3,
   "metadata": {
    "collapsed": true
   },
   "outputs": [],
   "source": [
    "# cleans strings\n",
    "def string_clean(string):\n",
    "    string = ' '.join(string)\n",
    "    string = unicode(string, 'ascii', 'ignore')\n",
    "    string = re.sub(r'\\d+', '', string)\n",
    "    string = string.split('\\n')\n",
    "    return string    "
   ]
  },
  {
   "cell_type": "code",
   "execution_count": 5,
   "metadata": {
    "collapsed": true
   },
   "outputs": [],
   "source": [
    "# writes n-grams to files\n",
    "def write_grams(string,gram,names):\n",
    "    onegrams = ngram_freq_generator(string,gram[0],5000)\n",
    "    onegrams.to_csv(names[0],index=False)\n",
    "    bigrams = ngram_freq_generator(string,gram[1],5000)\n",
    "    bigrams.to_csv(names[1],index=False)\n",
    "    trigrams = ngram_freq_generator(string,gram[2],5000)\n",
    "    trigrams.to_csv(names[2],index=False)"
   ]
  },
  {
   "cell_type": "markdown",
   "metadata": {},
   "source": [
    "### News"
   ]
  },
  {
   "cell_type": "code",
   "execution_count": 6,
   "metadata": {
    "collapsed": true
   },
   "outputs": [],
   "source": [
    "with open('en_US/en_US.news.txt') as myfile:\n",
    "    news = [next(myfile) for x in xrange(77259)]"
   ]
  },
  {
   "cell_type": "code",
   "execution_count": 8,
   "metadata": {
    "collapsed": true
   },
   "outputs": [],
   "source": [
    "gram = [1,2,3]\n",
    "names = ['onegrams_news.csv','bigrams_news.csv','trigrams_news.csv']"
   ]
  },
  {
   "cell_type": "code",
   "execution_count": 9,
   "metadata": {
    "collapsed": true
   },
   "outputs": [],
   "source": [
    "# cleaning strings\n",
    "cleaned = string_clean(news)"
   ]
  },
  {
   "cell_type": "code",
   "execution_count": 10,
   "metadata": {
    "collapsed": true
   },
   "outputs": [],
   "source": [
    "write_grams(cleaned,gram,names)"
   ]
  },
  {
   "cell_type": "code",
   "execution_count": 12,
   "metadata": {
    "collapsed": true
   },
   "outputs": [],
   "source": [
    "# writes n-grams to files\n",
    "def write_4_grams(string,gram,name):\n",
    "    fourgrams = ngram_freq_generator(string,gram,5000)\n",
    "    fourgrams.to_csv(name,index=False)"
   ]
  },
  {
   "cell_type": "code",
   "execution_count": 13,
   "metadata": {
    "collapsed": true
   },
   "outputs": [],
   "source": [
    "write_4_grams(cleaned,4,'fourgrams_news.csv')"
   ]
  },
  {
   "cell_type": "markdown",
   "metadata": {},
   "source": [
    "### Blogs"
   ]
  },
  {
   "cell_type": "code",
   "execution_count": 14,
   "metadata": {
    "collapsed": true
   },
   "outputs": [],
   "source": [
    "with open('en_US/en_US.blogs.txt') as myfile:\n",
    "    blogs = [next(myfile) for x in myfile]"
   ]
  },
  {
   "cell_type": "code",
   "execution_count": 15,
   "metadata": {
    "collapsed": true
   },
   "outputs": [],
   "source": [
    "cleaned = string_clean(blogs)"
   ]
  },
  {
   "cell_type": "code",
   "execution_count": 16,
   "metadata": {
    "collapsed": true
   },
   "outputs": [],
   "source": [
    "# use only 50% \n",
    "write_4_grams(cleaned[0:224823],4,'fourgrams_blogs.csv')"
   ]
  },
  {
   "cell_type": "markdown",
   "metadata": {},
   "source": [
    "### Tweets"
   ]
  },
  {
   "cell_type": "code",
   "execution_count": 20,
   "metadata": {
    "collapsed": true
   },
   "outputs": [],
   "source": [
    "with open('en_US/en_US.twitter.txt') as myfile:\n",
    "    tweets = [next(myfile) for x in myfile]"
   ]
  },
  {
   "cell_type": "code",
   "execution_count": 21,
   "metadata": {
    "collapsed": true
   },
   "outputs": [],
   "source": [
    "cleaned = string_clean(tweets)"
   ]
  },
  {
   "cell_type": "code",
   "execution_count": 24,
   "metadata": {
    "collapsed": false
   },
   "outputs": [],
   "source": [
    "write_4_grams(cleaned[0:354023],4,'fourgrams_tweets.csv')"
   ]
  },
  {
   "cell_type": "code",
   "execution_count": 22,
   "metadata": {
    "collapsed": false
   },
   "outputs": [
    {
     "data": {
      "text/plain": [
       "354022.5"
      ]
     },
     "execution_count": 22,
     "metadata": {},
     "output_type": "execute_result"
    }
   ],
   "source": [
    "len(cleaned)*0.3"
   ]
  },
  {
   "cell_type": "markdown",
   "metadata": {},
   "source": [
    "Similarlly, n-grams were generated for each file and saved to disk for further model building."
   ]
  }
 ],
 "metadata": {
  "kernelspec": {
   "display_name": "Python 2",
   "language": "python",
   "name": "python2"
  },
  "language_info": {
   "codemirror_mode": {
    "name": "ipython",
    "version": 2
   },
   "file_extension": ".py",
   "mimetype": "text/x-python",
   "name": "python",
   "nbconvert_exporter": "python",
   "pygments_lexer": "ipython2",
   "version": "2.7.11"
  }
 },
 "nbformat": 4,
 "nbformat_minor": 0
}
